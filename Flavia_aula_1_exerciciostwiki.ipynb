{
  "nbformat": 4,
  "nbformat_minor": 0,
  "metadata": {
    "colab": {
      "name": "Flavia_aula1_exerciciostwiki.ipynb",
      "provenance": [],
      "authorship_tag": "ABX9TyM6xH4Dnlo1WnexW0L3oiPT",
      "include_colab_link": true
    },
    "kernelspec": {
      "name": "python3",
      "display_name": "Python 3"
    }
  },
  "cells": [
    {
      "cell_type": "markdown",
      "metadata": {
        "id": "view-in-github",
        "colab_type": "text"
      },
      "source": [
        "<a href=\"https://colab.research.google.com/github/FlaviaFialho/Aula-Python/blob/master/Flavia_aula1_exerciciostwiki.ipynb\" target=\"_parent\"><img src=\"https://colab.research.google.com/assets/colab-badge.svg\" alt=\"Open In Colab\"/></a>"
      ]
    },
    {
      "cell_type": "markdown",
      "metadata": {
        "id": "JtgEiKvf6SPk",
        "colab_type": "text"
      },
      "source": [
        "Exercícios - Aula 1, twiki\n",
        "\n",
        "1. Se você fizer uma corrida de 10 Km em 43 minutos e 30 segundos, qual será seu tempo médio por milha? Qual é a sua velocidade média em milhas por hora? (Dica: há 1,61 Km em uma milha)"
      ]
    },
    {
      "cell_type": "code",
      "metadata": {
        "id": "wXU9RAHXES9F",
        "colab_type": "code",
        "colab": {
          "base_uri": "https://localhost:8080/",
          "height": 34
        },
        "outputId": "58513a22-4563-47d4-c398-bfcef3c94206"
      },
      "source": [
        "S = 10\n",
        "milha = 1.61\n",
        "D = S/milha\n",
        "print('10 Km =', D, 'milhas')\n",
        "#distância em milhas"
      ],
      "execution_count": 34,
      "outputs": [
        {
          "output_type": "stream",
          "text": [
            "10 Km = 6.211180124223602 milhas\n"
          ],
          "name": "stdout"
        }
      ]
    },
    {
      "cell_type": "code",
      "metadata": {
        "id": "mCqizb2HFI0o",
        "colab_type": "code",
        "colab": {
          "base_uri": "https://localhost:8080/",
          "height": 34
        },
        "outputId": "5a2f752d-3b92-4dd5-d283-def26d6c9198"
      },
      "source": [
        "minutos = 43.5\n",
        "hora = 60\n",
        "t = minutos/hora\n",
        "print ('43.5 minutos =', t,'horas')\n",
        "#tempo em horas"
      ],
      "execution_count": 35,
      "outputs": [
        {
          "output_type": "stream",
          "text": [
            "43.5 minutos = 0.725 horas\n"
          ],
          "name": "stdout"
        }
      ]
    },
    {
      "cell_type": "code",
      "metadata": {
        "id": "usZUn0_cIXGv",
        "colab_type": "code",
        "colab": {
          "base_uri": "https://localhost:8080/",
          "height": 34
        },
        "outputId": "704b45aa-9845-487b-8e99-b39dcc95c866"
      },
      "source": [
        "T = t/D\n",
        "print ('Tempo médio =', T, 'h/milha')\n",
        "#tempo médio"
      ],
      "execution_count": 36,
      "outputs": [
        {
          "output_type": "stream",
          "text": [
            "Tempo médio = 0.11672500000000001 h/milha\n"
          ],
          "name": "stdout"
        }
      ]
    },
    {
      "cell_type": "code",
      "metadata": {
        "id": "RBxhrTBjJSiq",
        "colab_type": "code",
        "colab": {
          "base_uri": "https://localhost:8080/",
          "height": 34
        },
        "outputId": "98edf21f-dcaf-45f5-ccad-d9891f2aaf96"
      },
      "source": [
        "v = D/t\n",
        "print ('Velocidade média =', v, 'milha/h')\n",
        "#velocidade média"
      ],
      "execution_count": 38,
      "outputs": [
        {
          "output_type": "stream",
          "text": [
            "Velocidade média = 8.567144998929106 milha/h\n"
          ],
          "name": "stdout"
        }
      ]
    },
    {
      "cell_type": "markdown",
      "metadata": {
        "id": "FEy7lH3LOx7a",
        "colab_type": "text"
      },
      "source": [
        "2. Desde sua varanda você escuta o som do primeiro fogo artificial do reveillon 3 segundos depois de ver a luz, qual a distância? "
      ]
    },
    {
      "cell_type": "code",
      "metadata": {
        "id": "CAvlFRmwPKjh",
        "colab_type": "code",
        "colab": {
          "base_uri": "https://localhost:8080/",
          "height": 34
        },
        "outputId": "3610cfff-93c0-46e2-c402-d33c13a5dd94"
      },
      "source": [
        "t = 3\n",
        "c = 3*10**8 #c = velocidade da luz em m/s\n",
        "v = 343 #velocidade do som em m/s\n",
        "d = v*t\n",
        "print ('A distância é:', d, 'm')"
      ],
      "execution_count": 39,
      "outputs": [
        {
          "output_type": "stream",
          "text": [
            "A distância é: 1029 m\n"
          ],
          "name": "stdout"
        }
      ]
    },
    {
      "cell_type": "markdown",
      "metadata": {
        "id": "zvw1wKVKUXOs",
        "colab_type": "text"
      },
      "source": [
        "3. Ache os zeros da função y = 3x²- 4x - 10"
      ]
    },
    {
      "cell_type": "code",
      "metadata": {
        "id": "liMYwjPVWuPZ",
        "colab_type": "code",
        "colab": {
          "base_uri": "https://localhost:8080/",
          "height": 34
        },
        "outputId": "22045fb3-7fc7-4e8b-b7c5-ea7918e9b9c9"
      },
      "source": [
        "import math\n",
        "delta = (-4)**2 - 4*3*(-10)\n",
        "x1 = (4 + delta**(1/2))/6\n",
        "x2 = (4 - delta**(1/2))/6\n",
        "print ('x1 =',x1, ';x2 =', x2)\n"
      ],
      "execution_count": 16,
      "outputs": [
        {
          "output_type": "stream",
          "text": [
            "x1 = 2.610317298281767 ;x2 = -1.2769839649484336\n"
          ],
          "name": "stdout"
        }
      ]
    },
    {
      "cell_type": "markdown",
      "metadata": {
        "id": "H9tLnzP9gWv2",
        "colab_type": "text"
      },
      "source": [
        "4. Se, ao meio dia, a sombra de um poste de 5m de altura tem apenas 50 cm de comprimento no chão, qual o ângulo zenital do sol?"
      ]
    },
    {
      "cell_type": "code",
      "metadata": {
        "id": "s-RiMHKklFp3",
        "colab_type": "code",
        "colab": {
          "base_uri": "https://localhost:8080/",
          "height": 34
        },
        "outputId": "1e31ff9b-4ef9-4e58-9562-d5c21f533b52"
      },
      "source": [
        "import math\n",
        "H = 5 #altura do poste em metro\n",
        "h = 0.5 #sombra em metro\n",
        "theta = round(math.atan(H/h),3) #arcotangente do ângulo em radianos\n",
        "print ('O ângulo zenital é:', theta, 'rad.')"
      ],
      "execution_count": 20,
      "outputs": [
        {
          "output_type": "stream",
          "text": [
            "O ângulo zenital é: 1.471 rad.\n"
          ],
          "name": "stdout"
        }
      ]
    },
    {
      "cell_type": "markdown",
      "metadata": {
        "id": "LT491KEnqp12",
        "colab_type": "text"
      },
      "source": [
        "5. Calcule o seu IMC. Um valor saudável estará - em geral - entre 20-25. Um bebê de 6 meses \"gorducho\" tem 70 cm de comprimento e 11 kg de massa. Qual o IMC dele?"
      ]
    },
    {
      "cell_type": "code",
      "metadata": {
        "id": "9GEv2yQTsH76",
        "colab_type": "code",
        "colab": {
          "base_uri": "https://localhost:8080/",
          "height": 34
        },
        "outputId": "a178dac0-b8a8-4bb5-97d7-f9a2bf04585e"
      },
      "source": [
        "import math\n",
        "Massa = 50 #minha massa em kg\n",
        "Altura = 1.62 #minha altura em metro\n",
        "IMC = Massa/(Altura**2)\n",
        "massa = 11 #massa do bebê em kg\n",
        "altura = 0.7 #altura do bebê em metro\n",
        "imc = massa/(altura**2)\n",
        "print ('Meu IMC =', IMC, ';IMC do bebê =', imc)"
      ],
      "execution_count": 32,
      "outputs": [
        {
          "output_type": "stream",
          "text": [
            "Meu IMC = 19.05197378448407 ;IMC do bebê = 22.44897959183674\n"
          ],
          "name": "stdout"
        }
      ]
    },
    {
      "cell_type": "markdown",
      "metadata": {
        "id": "eUjDdr0zwRfc",
        "colab_type": "text"
      },
      "source": [
        "6. Calcule a velocidade final de um objeto em queda livre a partir de 3 metros de altura (sem resistência do ar). Calcule o tempo que esse objeto demora para cair."
      ]
    },
    {
      "cell_type": "code",
      "metadata": {
        "id": "fGSng7VSw5Mx",
        "colab_type": "code",
        "colab": {
          "base_uri": "https://localhost:8080/",
          "height": 34
        },
        "outputId": "aea93430-387a-4f89-dba6-836e1cc8ae62"
      },
      "source": [
        "h = 3 #altura em metros\n",
        "g = 9.8 #gravidade\n",
        "v = (2*g*h)**(1/2) #velocidade final\n",
        "t = v/g #tempo de queda\n",
        "print ('A velocidade final é:', v, 'm/s;' 'O tempo de queda é:', t, 's')"
      ],
      "execution_count": 43,
      "outputs": [
        {
          "output_type": "stream",
          "text": [
            "A velocidade final é: 7.6681158050723255 m/s;O tempo de queda é: 0.7824607964359516 s\n"
          ],
          "name": "stdout"
        }
      ]
    }
  ]
}
