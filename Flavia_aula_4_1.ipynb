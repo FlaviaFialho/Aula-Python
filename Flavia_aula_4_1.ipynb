{
  "nbformat": 4,
  "nbformat_minor": 0,
  "metadata": {
    "colab": {
      "name": "Flavia_aula_4_1.ipynb",
      "provenance": [],
      "authorship_tag": "ABX9TyPjsJeC6geStj2MaihBTb6+",
      "include_colab_link": true
    },
    "kernelspec": {
      "name": "python3",
      "display_name": "Python 3"
    }
  },
  "cells": [
    {
      "cell_type": "markdown",
      "metadata": {
        "id": "view-in-github",
        "colab_type": "text"
      },
      "source": [
        "<a href=\"https://colab.research.google.com/github/FlaviaFialho/Aula-Python/blob/master/Flavia_aula_4_1.ipynb\" target=\"_parent\"><img src=\"https://colab.research.google.com/assets/colab-badge.svg\" alt=\"Open In Colab\"/></a>"
      ]
    },
    {
      "cell_type": "markdown",
      "metadata": {
        "id": "BqvvAbdBKsAz"
      },
      "source": [
        "Exercício 1. Escreva uma versão mais geral de print_spam (exemplo da aula 4), chamada print_twice, que use uma string como parâmetro e imprima duas vezes. Use a versão modificada de do_twice para chamar print_twice duas vezes, passando 'spam' como um argumento. Defina uma nova função chamada do_four que recebe um objeto de função e um valor e chama a função quatro vezes, passando o valor como um parâmetro. Deve haver apenas duas declarações no corpo desta função, não quatro."
      ]
    },
    {
      "cell_type": "code",
      "metadata": {
        "id": "cNiHj1rcKvsM",
        "outputId": "207c1e94-1099-46ba-85a0-270fa95de0a6",
        "colab": {
          "base_uri": "https://localhost:8080/",
          "height": 51
        }
      },
      "source": [
        "def do_twice (f):\n",
        "    f ()\n",
        "    f ()\n",
        "\n",
        "def print_spam ():\n",
        "    print('spam')\n",
        "\n",
        "do_twice(print_spam)"
      ],
      "execution_count": 1,
      "outputs": [
        {
          "output_type": "stream",
          "text": [
            "spam\n",
            "spam\n"
          ],
          "name": "stdout"
        }
      ]
    },
    {
      "cell_type": "code",
      "metadata": {
        "id": "Dd6dtRKpLjkR",
        "outputId": "b730f079-b2a9-4224-e96b-86a9b4044e6c",
        "colab": {
          "base_uri": "https://localhost:8080/",
          "height": 51
        }
      },
      "source": [
        "def do_twice(f,x):\n",
        "\t  f(x)\n",
        "\t  f(x)\n",
        "   \n",
        "def print_spam(x):\n",
        "\t  print(x)\n",
        "   \n",
        "x = 'spam modificado'\n",
        "do_twice(print_spam, x)"
      ],
      "execution_count": 2,
      "outputs": [
        {
          "output_type": "stream",
          "text": [
            "spam modificado\n",
            "spam modificado\n"
          ],
          "name": "stdout"
        }
      ]
    },
    {
      "cell_type": "code",
      "metadata": {
        "id": "0_sonr6tLwY5",
        "outputId": "2283b507-a62b-44da-94fd-e7a0d634a4e3",
        "colab": {
          "base_uri": "https://localhost:8080/",
          "height": 85
        }
      },
      "source": [
        "def print_twice(y):\n",
        "\t  print(y)\n",
        "\t  print(y)\n",
        "\n",
        "y = 'spam geral'\n",
        "do_twice(print_twice, y)"
      ],
      "execution_count": 3,
      "outputs": [
        {
          "output_type": "stream",
          "text": [
            "spam geral\n",
            "spam geral\n",
            "spam geral\n",
            "spam geral\n"
          ],
          "name": "stdout"
        }
      ]
    },
    {
      "cell_type": "code",
      "metadata": {
        "id": "OE_PQDA8L2Ys",
        "outputId": "0c899b44-0915-4f69-9550-526264727363",
        "colab": {
          "base_uri": "https://localhost:8080/",
          "height": 51
        }
      },
      "source": [
        "def do_four(f,x):\n",
        "\t  print(f,x)\n",
        "\t  print(f,x)\n",
        "\n",
        "z = 'spam'\n",
        "do_twice(print_spam,z)"
      ],
      "execution_count": 4,
      "outputs": [
        {
          "output_type": "stream",
          "text": [
            "spam\n",
            "spam\n"
          ],
          "name": "stdout"
        }
      ]
    }
  ]
}