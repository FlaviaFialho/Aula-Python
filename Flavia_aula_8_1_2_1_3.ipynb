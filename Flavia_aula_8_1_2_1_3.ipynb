{
  "nbformat": 4,
  "nbformat_minor": 0,
  "metadata": {
    "colab": {
      "name": "Flavia_aula_8_1_2_1_3.ipynb",
      "provenance": [],
      "authorship_tag": "ABX9TyPB4jTvOzmTw0dw/FVjSssN",
      "include_colab_link": true
    },
    "kernelspec": {
      "name": "python3",
      "display_name": "Python 3"
    }
  },
  "cells": [
    {
      "cell_type": "markdown",
      "metadata": {
        "id": "view-in-github",
        "colab_type": "text"
      },
      "source": [
        "<a href=\"https://colab.research.google.com/github/FlaviaFialho/Aula-Python/blob/master/Flavia_aula_8_1_2_1_3.ipynb\" target=\"_parent\"><img src=\"https://colab.research.google.com/assets/colab-badge.svg\" alt=\"Open In Colab\"/></a>"
      ]
    },
    {
      "cell_type": "markdown",
      "metadata": {
        "id": "4YvmcxUEWaHr"
      },
      "source": [
        "Exercícios aula:"
      ]
    },
    {
      "cell_type": "markdown",
      "metadata": {
        "id": "oG1gwG8gWe_L"
      },
      "source": [
        "Exercício 1: Percorra toda a 'string' banana, utilizando as interações apresentadas nas aulas anteriores, e imprima na tela uma letra por linha como se fosse em uma escada."
      ]
    },
    {
      "cell_type": "code",
      "metadata": {
        "id": "2YNTcnLMWnLJ",
        "outputId": "d7beaa16-8f43-452d-e559-29d2bbb2b375",
        "colab": {
          "base_uri": "https://localhost:8080/",
          "height": 119
        }
      },
      "source": [
        "fruta = \"banana\"\n",
        "for i in range(len(fruta)):\n",
        "    print(\" \"*i + fruta[i])"
      ],
      "execution_count": null,
      "outputs": [
        {
          "output_type": "stream",
          "text": [
            "b\n",
            " a\n",
            "  n\n",
            "   a\n",
            "    n\n",
            "     a\n"
          ],
          "name": "stdout"
        }
      ]
    },
    {
      "cell_type": "markdown",
      "metadata": {
        "id": "0fdjaeufYPOE"
      },
      "source": [
        "Exercício 2: Escreva uma função que receba uma string como argumento e exiba as letras de trás para a frente, uma por linha."
      ]
    },
    {
      "cell_type": "code",
      "metadata": {
        "id": "AYuhQrBeYUGb",
        "outputId": "7d5f8db0-9a6d-46d7-b12b-a6a20e7d0a98",
        "colab": {
          "base_uri": "https://localhost:8080/",
          "height": 119
        }
      },
      "source": [
        "counter = len(fruta)\n",
        "for i in range(len(fruta)):\n",
        "    print(fruta[counter - i - 1])"
      ],
      "execution_count": null,
      "outputs": [
        {
          "output_type": "stream",
          "text": [
            "a\n",
            "n\n",
            "a\n",
            "n\n",
            "a\n",
            "b\n"
          ],
          "name": "stdout"
        }
      ]
    },
    {
      "cell_type": "markdown",
      "metadata": {
        "id": "mHotYfY-aIEV"
      },
      "source": [
        "Exercícios"
      ]
    },
    {
      "cell_type": "markdown",
      "metadata": {
        "id": "ry5tiOEAaPCc"
      },
      "source": [
        "Exercício 1: Resolução numérica de equações diferenciais. Imagine que tem um/a maratonista treinando num trecho de $5 km$ com velocidade quase constante de $12 km/h$. Produza uma lista de distância percorrida em intervalos de 1 minuto."
      ]
    },
    {
      "cell_type": "code",
      "metadata": {
        "id": "mq_DyiOuaT9U",
        "outputId": "2ebc12fc-1af9-4cfd-84f0-c7e296eff4b5",
        "colab": {
          "base_uri": "https://localhost:8080/",
          "height": 54
        }
      },
      "source": [
        "import math\n",
        "\n",
        "si = 0\n",
        "sf = 5\n",
        "v = 12\n",
        "t0 = 0\n",
        "tmin = 1\n",
        "\n",
        "#transformação de km/h para km/min\n",
        "def vkmh(vkmmin) :\n",
        "     vkmh = vkmmin/60\n",
        "     return vkmh\n",
        "\n",
        "v = vkmh (v)\n",
        "\n",
        "t = []\n",
        "s = []\n",
        "\n",
        "while si != sf:\n",
        "  si = v*t0\n",
        "  t0 = t0 + tmin\n",
        "  s.append(si)\n",
        "\n",
        "print ('Lista de distância percorrida em intervalos de 1 minuto', s)  "
      ],
      "execution_count": 9,
      "outputs": [
        {
          "output_type": "stream",
          "text": [
            "Lista de distância percorrida em intervalos de 1 minuto [0.0, 0.2, 0.4, 0.6000000000000001, 0.8, 1.0, 1.2000000000000002, 1.4000000000000001, 1.6, 1.8, 2.0, 2.2, 2.4000000000000004, 2.6, 2.8000000000000003, 3.0, 3.2, 3.4000000000000004, 3.6, 3.8000000000000003, 4.0, 4.2, 4.4, 4.6000000000000005, 4.800000000000001, 5.0]\n"
          ],
          "name": "stdout"
        }
      ]
    }
  ]
}