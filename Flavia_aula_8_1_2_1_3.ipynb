{
  "nbformat": 4,
  "nbformat_minor": 0,
  "metadata": {
    "colab": {
      "name": "Flavia_aula_8_1_2_1_3.ipynb",
      "provenance": [],
      "authorship_tag": "ABX9TyN8ybNE+FVwh9D6bV97XDxc",
      "include_colab_link": true
    },
    "kernelspec": {
      "name": "python3",
      "display_name": "Python 3"
    }
  },
  "cells": [
    {
      "cell_type": "markdown",
      "metadata": {
        "id": "view-in-github",
        "colab_type": "text"
      },
      "source": [
        "<a href=\"https://colab.research.google.com/github/FlaviaFialho/Aula-Python/blob/master/Flavia_aula_8_1_2_1_3.ipynb\" target=\"_parent\"><img src=\"https://colab.research.google.com/assets/colab-badge.svg\" alt=\"Open In Colab\"/></a>"
      ]
    },
    {
      "cell_type": "markdown",
      "metadata": {
        "id": "4YvmcxUEWaHr"
      },
      "source": [
        "Exercícios aula:"
      ]
    },
    {
      "cell_type": "markdown",
      "metadata": {
        "id": "oG1gwG8gWe_L"
      },
      "source": [
        "Exercício 1: Percorra toda a 'string' banana, utilizando as interações apresentadas nas aulas anteriores, e imprima na tela uma letra por linha como se fosse em uma escada."
      ]
    },
    {
      "cell_type": "code",
      "metadata": {
        "id": "2YNTcnLMWnLJ",
        "outputId": "d7beaa16-8f43-452d-e559-29d2bbb2b375",
        "colab": {
          "base_uri": "https://localhost:8080/",
          "height": 119
        }
      },
      "source": [
        "fruta = \"banana\"\n",
        "for i in range(len(fruta)):\n",
        "    print(\" \"*i + fruta[i])"
      ],
      "execution_count": null,
      "outputs": [
        {
          "output_type": "stream",
          "text": [
            "b\n",
            " a\n",
            "  n\n",
            "   a\n",
            "    n\n",
            "     a\n"
          ],
          "name": "stdout"
        }
      ]
    },
    {
      "cell_type": "markdown",
      "metadata": {
        "id": "0fdjaeufYPOE"
      },
      "source": [
        "Exercício 2: Escreva uma função que receba uma string como argumento e exiba as letras de trás para a frente, uma por linha."
      ]
    },
    {
      "cell_type": "code",
      "metadata": {
        "id": "AYuhQrBeYUGb",
        "outputId": "7d5f8db0-9a6d-46d7-b12b-a6a20e7d0a98",
        "colab": {
          "base_uri": "https://localhost:8080/",
          "height": 119
        }
      },
      "source": [
        "counter = len(fruta)\n",
        "for i in range(len(fruta)):\n",
        "    print(fruta[counter - i - 1])"
      ],
      "execution_count": null,
      "outputs": [
        {
          "output_type": "stream",
          "text": [
            "a\n",
            "n\n",
            "a\n",
            "n\n",
            "a\n",
            "b\n"
          ],
          "name": "stdout"
        }
      ]
    },
    {
      "cell_type": "markdown",
      "metadata": {
        "id": "mHotYfY-aIEV"
      },
      "source": [
        "Exercícios"
      ]
    },
    {
      "cell_type": "markdown",
      "metadata": {
        "id": "ry5tiOEAaPCc"
      },
      "source": [
        "Exercício 1: Resolução numérica de equações diferenciais. Imagine que tem um/a maratonista treinando num trecho de $5 km$ com velocidade quase constante de $12 km/h$. Produza uma lista de distância percorrida em intervalos de 1 minuto."
      ]
    },
    {
      "cell_type": "code",
      "metadata": {
        "id": "mq_DyiOuaT9U",
        "outputId": "23408302-6336-4a5f-8bfa-2cacbcf3caa0",
        "colab": {
          "base_uri": "https://localhost:8080/",
          "height": 54
        }
      },
      "source": [
        "import math\n",
        "\n",
        "si = 0\n",
        "sf = 5\n",
        "v = 12\n",
        "t0 = 0\n",
        "tmin = 1\n",
        "\n",
        "#transformação de km/h para km/min\n",
        "def vkmh(vkmmin) :\n",
        "     vkmh = vkmmin/60\n",
        "     return vkmh\n",
        "\n",
        "v = vkmh (v)\n",
        "\n",
        "t = []\n",
        "s = []\n",
        "\n",
        "while si != sf:\n",
        "  si = v*t0\n",
        "  t0 = t0 + tmin\n",
        "  s.append(si)\n",
        "\n",
        "print ('Lista de distância percorrida em intervalos de 1 minuto', s, 'km')  "
      ],
      "execution_count": null,
      "outputs": [
        {
          "output_type": "stream",
          "text": [
            "Lista de distância percorrida em intervalos de 1 minuto [0.0, 0.2, 0.4, 0.6000000000000001, 0.8, 1.0, 1.2000000000000002, 1.4000000000000001, 1.6, 1.8, 2.0, 2.2, 2.4000000000000004, 2.6, 2.8000000000000003, 3.0, 3.2, 3.4000000000000004, 3.6, 3.8000000000000003, 4.0, 4.2, 4.4, 4.6000000000000005, 4.800000000000001, 5.0] km\n"
          ],
          "name": "stdout"
        }
      ]
    },
    {
      "cell_type": "markdown",
      "metadata": {
        "id": "gR2tU2j1XFql"
      },
      "source": [
        "Exercício 2: O/A mesmo/a atleta no seguinte trecho acelera por $200$ metros até chegar em $15 km/h$ por $2 km$. Queremos obter uma tabela ou gráfico da distância percorrida em função do tempo e o tempo total para chegar em $7 km$. Faça isto utilizando listas."
      ]
    },
    {
      "cell_type": "code",
      "metadata": {
        "id": "yfdm0JOAXKFC",
        "outputId": "d43d4ef1-ae1f-4210-b0e0-9a87e2aa0247",
        "colab": {
          "base_uri": "https://localhost:8080/",
          "height": 231
        }
      },
      "source": [
        "import math\n",
        "import matplotlib.pyplot as plt\n",
        "\n",
        "#Primeiros 5 km, velocidade constante\n",
        "v0 = 0 #velocidade inicial em km/h\n",
        "vf = 12 #velocidade final em km/h\n",
        "s0 = 0 #posição inicial em km\n",
        "sf = 5 #posição final em km\n",
        "t01 = 0\n",
        "tf = 5/(12) #tempo em h\n",
        "dt = 1 #contagem em cada segundo\n",
        "\n",
        "t1 = []\n",
        "s1 = []\n",
        "\n",
        "while s0 != sf :\n",
        "   s0 = vf*t0\n",
        "   t01 = t01 + dt\n",
        "   s1.append(s0)\n",
        "\n",
        "#200 metros seguintes, acelerado\n",
        "v02 = 12 #velocidade inicial em km\n",
        "vf2 = 15 #velocidade final em km\n",
        "s02 = 5 #posição inicial em km\n",
        "sf2 = 5.2 #posição final em km\n",
        "t02 = 5/(12) #tempo inicial em segundo\n",
        "dt2 = 1 \n",
        "\n",
        "ac = round ((vf2**2 - v02**2)/(2*(sf2 - s02)), 3) #aceleração em m/s\n",
        "\n",
        "t2 = []\n",
        "s2 = []\n",
        "\n",
        "while s02 != sf2:\n",
        "   s02 = ac*(t02**2)\n",
        "   t02 = t02 + dt2\n",
        "   t2.append(s02)\n",
        "\n",
        "#até os 7 km restantes, velocidade constante\n",
        "v3 = 15/3.6 #velocidade em m/s\n",
        "s03 = 5200 #posição inicial em m\n",
        "sf3 = 7000 #posição final em m\n",
        "t03 = 160.25\n",
        "dt3 = 1\n",
        "\n",
        "t3 = []\n",
        "s3 = []\n",
        "\n",
        "while s03 != sf3:\n",
        "   s03 = v3*t03\n",
        "   t03 = t03 + dt3\n",
        "   s3.append(s03) \n",
        "\n",
        "tinicial = 0\n",
        "tfinal = 160.25\n",
        "dt4 = 1\n",
        "\n",
        "t4 = []\n",
        "\n",
        "while tinicial != tfinal:\n",
        "  tinicial = tinicial + dt4 \n",
        "  t4.append(tinicial)\n",
        "\n",
        "#Gráfico\n",
        "listatempo = t4\n",
        "listades = s1 + s2 + s3\n",
        "\n",
        "t = listatempo\n",
        "x = listades\n",
        "\n",
        "plt.plot(t,x)\n",
        "plt.xlabel(\"S(m)\")\n",
        "plt.tlabel(\"t(s)\")"
      ],
      "execution_count": null,
      "outputs": [
        {
          "output_type": "error",
          "ename": "KeyboardInterrupt",
          "evalue": "ignored",
          "traceback": [
            "\u001b[0;31m---------------------------------------------------------------------------\u001b[0m",
            "\u001b[0;31mKeyboardInterrupt\u001b[0m                         Traceback (most recent call last)",
            "\u001b[0;32m<ipython-input-4-d76cc36d6845>\u001b[0m in \u001b[0;36m<module>\u001b[0;34m()\u001b[0m\n\u001b[1;32m     17\u001b[0m    \u001b[0ms0\u001b[0m \u001b[0;34m=\u001b[0m \u001b[0mvf\u001b[0m\u001b[0;34m*\u001b[0m\u001b[0mt0\u001b[0m\u001b[0;34m\u001b[0m\u001b[0;34m\u001b[0m\u001b[0m\n\u001b[1;32m     18\u001b[0m    \u001b[0mt01\u001b[0m \u001b[0;34m=\u001b[0m \u001b[0mt01\u001b[0m \u001b[0;34m+\u001b[0m \u001b[0mdt\u001b[0m\u001b[0;34m\u001b[0m\u001b[0;34m\u001b[0m\u001b[0m\n\u001b[0;32m---> 19\u001b[0;31m    \u001b[0ms1\u001b[0m\u001b[0;34m.\u001b[0m\u001b[0mappend\u001b[0m\u001b[0;34m(\u001b[0m\u001b[0ms0\u001b[0m\u001b[0;34m)\u001b[0m\u001b[0;34m\u001b[0m\u001b[0;34m\u001b[0m\u001b[0m\n\u001b[0m\u001b[1;32m     20\u001b[0m \u001b[0;34m\u001b[0m\u001b[0m\n\u001b[1;32m     21\u001b[0m \u001b[0;31m#200 metros seguintes, acelerado\u001b[0m\u001b[0;34m\u001b[0m\u001b[0;34m\u001b[0m\u001b[0;34m\u001b[0m\u001b[0m\n",
            "\u001b[0;31mKeyboardInterrupt\u001b[0m: "
          ]
        }
      ]
    }
  ]
}