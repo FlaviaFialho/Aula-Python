{
  "nbformat": 4,
  "nbformat_minor": 0,
  "metadata": {
    "colab": {
      "name": "Flavia_aula_2_exercicios.ipynb",
      "provenance": [],
      "authorship_tag": "ABX9TyMuCuW7BuxGtHz6QRrG86mB",
      "include_colab_link": true
    },
    "kernelspec": {
      "name": "python3",
      "display_name": "Python 3"
    }
  },
  "cells": [
    {
      "cell_type": "markdown",
      "metadata": {
        "id": "view-in-github",
        "colab_type": "text"
      },
      "source": [
        "<a href=\"https://colab.research.google.com/github/FlaviaFialho/Aula-Python/blob/master/Flavia_aula_2_exercicios.ipynb\" target=\"_parent\"><img src=\"https://colab.research.google.com/assets/colab-badge.svg\" alt=\"Open In Colab\"/></a>"
      ]
    },
    {
      "cell_type": "markdown",
      "metadata": {
        "id": "_GpMsH3sc3zZ",
        "colab_type": "text"
      },
      "source": [
        "Exercício 1."
      ]
    },
    {
      "cell_type": "code",
      "metadata": {
        "id": "sxghv0jdc6EN",
        "colab_type": "code",
        "colab": {}
      },
      "source": [
        "import math"
      ],
      "execution_count": 5,
      "outputs": []
    },
    {
      "cell_type": "code",
      "metadata": {
        "id": "I9rQLYTsdAcw",
        "colab_type": "code",
        "colab": {}
      },
      "source": [
        "largura = 17\n",
        "altura = 12.0\n",
        "delimitador = \".\""
      ],
      "execution_count": 6,
      "outputs": []
    },
    {
      "cell_type": "code",
      "metadata": {
        "id": "t0qiNIfudp7N",
        "colab_type": "code",
        "colab": {
          "base_uri": "https://localhost:8080/",
          "height": 102
        },
        "outputId": "e3e47a24-cfd7-4ec5-d511-ad30d7dd29fd"
      },
      "source": [
        "print ('Resultado', largura/2, type(largura/2))\n",
        "print ('Resultado', largura/2.0, type(largura/2.0))\n",
        "print ('Resultado', altura/3, type(altura/3))\n",
        "print ('Resultado', 1+2*5, type(1+2*5))\n",
        "print ('Resultado', delimitador*5, type(delimitador*5))"
      ],
      "execution_count": 7,
      "outputs": [
        {
          "output_type": "stream",
          "text": [
            "Resultado 8.5 <class 'float'>\n",
            "Resultado 8.5 <class 'float'>\n",
            "Resultado 4.0 <class 'float'>\n",
            "Resultado 11 <class 'int'>\n",
            "Resultado ..... <class 'str'>\n"
          ],
          "name": "stdout"
        }
      ]
    },
    {
      "cell_type": "markdown",
      "metadata": {
        "id": "Z5Cu6S1Yi1oh",
        "colab_type": "text"
      },
      "source": [
        "Exercício 2. Qual é o volume de uma esfera de raio 5?"
      ]
    },
    {
      "cell_type": "code",
      "metadata": {
        "id": "U5FP8kXvjl-R",
        "colab_type": "code",
        "colab": {
          "base_uri": "https://localhost:8080/",
          "height": 34
        },
        "outputId": "090e8174-ec2e-4156-ab21-6c263ce79cf8"
      },
      "source": [
        "r = 5\n",
        "pi = math.pi\n",
        "v = (4*pi*(r**3))/(3)\n",
        "print('Volume =', v)"
      ],
      "execution_count": 11,
      "outputs": [
        {
          "output_type": "stream",
          "text": [
            "Volume = 523.5987755982989\n"
          ],
          "name": "stdout"
        }
      ]
    },
    {
      "cell_type": "markdown",
      "metadata": {
        "id": "-ZqkX-tzl5oQ",
        "colab_type": "text"
      },
      "source": [
        "Exercício 3. Suponha que o preço de um livro seja 24.95 reais, porém as livrarias têm desconto de 40%. Os custos de envio são de 3.00 reais para o primeiro livro e 0.75 para os livros adicionais. Qual é o custo total da compra de 60 livros?\n"
      ]
    },
    {
      "cell_type": "code",
      "metadata": {
        "id": "0EUBQTJ5oLAS",
        "colab_type": "code",
        "colab": {
          "base_uri": "https://localhost:8080/",
          "height": 34
        },
        "outputId": "771c99b5-14fd-479e-dcb7-64309ddd96d8"
      },
      "source": [
        "livro = 24.95\n",
        "desconto = (1 - 0.4)\n",
        "n = 60\n",
        "todos_livros = livro*desconto*n\n",
        "frete = 3 + (0.75)*(n-1)\n",
        "total = todos_livros + frete\n",
        "print ('Valor total da compra é: R$', total)"
      ],
      "execution_count": 17,
      "outputs": [
        {
          "output_type": "stream",
          "text": [
            "Valor total da compra é: R$ 945.4499999999999\n"
          ],
          "name": "stdout"
        }
      ]
    },
    {
      "cell_type": "markdown",
      "metadata": {
        "id": "RiURgHXpz4Z0",
        "colab_type": "text"
      },
      "source": [
        "Exercício 4. "
      ]
    },
    {
      "cell_type": "code",
      "metadata": {
        "id": "48JZT09-0W7y",
        "colab_type": "code",
        "colab": {
          "base_uri": "https://localhost:8080/",
          "height": 34
        },
        "outputId": "29370f2c-6c26-4398-834f-ba4daa2068d5"
      },
      "source": [
        "laser = 632.8*(10**(-9)) #nm\n",
        "D = 1.98\n",
        "d = 0.25*(10**(-3)) #nm\n",
        "y = (laser*D)/d\n",
        "print (y, 'metros')"
      ],
      "execution_count": 18,
      "outputs": [
        {
          "output_type": "stream",
          "text": [
            "0.005011776 metros\n"
          ],
          "name": "stdout"
        }
      ]
    }
  ]
}
