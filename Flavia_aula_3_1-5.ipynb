{
  "nbformat": 4,
  "nbformat_minor": 0,
  "metadata": {
    "colab": {
      "name": "Flavia_aula_3_1-5.ipynb",
      "provenance": [],
      "authorship_tag": "ABX9TyMm2oscyWCP7ikVtr+UNzaX",
      "include_colab_link": true
    },
    "kernelspec": {
      "name": "python3",
      "display_name": "Python 3"
    }
  },
  "cells": [
    {
      "cell_type": "markdown",
      "metadata": {
        "id": "view-in-github",
        "colab_type": "text"
      },
      "source": [
        "<a href=\"https://colab.research.google.com/github/FlaviaFialho/Aula-Python/blob/master/Flavia_aula_3_1-5.ipynb\" target=\"_parent\"><img src=\"https://colab.research.google.com/assets/colab-badge.svg\" alt=\"Open In Colab\"/></a>"
      ]
    },
    {
      "cell_type": "markdown",
      "metadata": {
        "id": "oNWDJWyYhnqA"
      },
      "source": [
        "Exercício 1: Crie uma função que tome um argumento e imprima o valor e o tipo dele."
      ]
    },
    {
      "cell_type": "code",
      "metadata": {
        "id": "UG4Cq1f3J3b5"
      },
      "source": [
        "import math"
      ],
      "execution_count": 4,
      "outputs": []
    },
    {
      "cell_type": "code",
      "metadata": {
        "id": "1G5C71JcN7ss"
      },
      "source": [
        "def d(x) :\n",
        "\n",
        "   dobro = 2*x\n",
        "   return dobro\n",
        "\n",
        "print ('Dobro de 5 =', d(5))\n",
        "print ('O tipo do argunto:', type(d(5)))"
      ],
      "execution_count": null,
      "outputs": []
    },
    {
      "cell_type": "markdown",
      "metadata": {
        "id": "wdd6qhqAbFI6"
      },
      "source": [
        "Exercício 2: Crie uma função que calcule e imprima velocidade media de um objeto a partir de uma posição inicial, a final e o tempo transcorrido para um objeto em MRU. Também crie uma funcão que calcule e imprima a velocidade de um objeto a partir da aceleração constante e o tempo (MRUA) (p.ex. queda livre)."
      ]
    },
    {
      "cell_type": "code",
      "metadata": {
        "id": "ReYLqMI7fkJA",
        "outputId": "b3601bb4-37c7-4ef3-b316-8ae385cc52bb",
        "colab": {
          "base_uri": "https://localhost:8080/",
          "height": 85
        }
      },
      "source": [
        "#MRU\n",
        "def di () :\n",
        "    z = input ('Posição inicial em metros:')\n",
        "    u = float (z)\n",
        "    return u\n",
        "\n",
        "def df () :\n",
        "    y = input ('Posição final em metros:')     \n",
        "    x = float (y)\n",
        "    return x\n",
        "\n",
        "def tempo () :\n",
        "    w = input ('Tempo transcorrido em segundos: ')   \n",
        "    t = float (w)\n",
        "    return t\n",
        "\n",
        "def velocidade (u, x, t) :\n",
        "    v = (x - u)/t\n",
        "    return v\n",
        "\n",
        "u = di ()\n",
        "x = df ()   \n",
        "t = tempo () \n",
        "v = velocidade (u, x, t)\n",
        "\n",
        "print ('Velocidade = ', v, 'm/s')"
      ],
      "execution_count": null,
      "outputs": [
        {
          "output_type": "stream",
          "text": [
            "Posição inicial em metros:0\n",
            "Posição final em metros:4\n",
            "Tempo transcorrido em segundos: 7\n",
            "Velocidade =  0.5714285714285714 m/s\n"
          ],
          "name": "stdout"
        }
      ]
    },
    {
      "cell_type": "code",
      "metadata": {
        "id": "cRsouAFrhhz_",
        "outputId": "87c000b4-b625-40ad-a197-a4b63f0ed392",
        "colab": {
          "base_uri": "https://localhost:8080/",
          "height": 68
        }
      },
      "source": [
        "#MRUV\n",
        "def ac () :\n",
        "  g = input ('Aceleração em m/s² = ')\n",
        "  a = float (g)\n",
        "  return a\n",
        "\n",
        "def tp () :\n",
        "  q = input ('Tempo em s = ')\n",
        "  f = float (q)\n",
        "  return f\n",
        "\n",
        "def vl (a, f) :\n",
        "    ve = a*f \n",
        "    return ve\n",
        "\n",
        "a = ac ()\n",
        "f = tp ()\n",
        "ve = vl (a, f)\n",
        "\n",
        "print ('Velocidade =', ve, 'm/s')"
      ],
      "execution_count": null,
      "outputs": [
        {
          "output_type": "stream",
          "text": [
            "Aceleração em m/s² = 10\n",
            "Tempo em s = 2\n",
            "Velocidade = 20.0 m/s\n"
          ],
          "name": "stdout"
        }
      ]
    },
    {
      "cell_type": "markdown",
      "metadata": {
        "id": "wxQ3bzuD3IZy"
      },
      "source": [
        "Exercício 3: Crie uma função para calcular o ângulo zenital do sol (da semana passada) tomando como argumento as medidas da altura e o comprimento da sombra."
      ]
    },
    {
      "cell_type": "code",
      "metadata": {
        "id": "8EQVsaIh3PcS",
        "outputId": "0cc0c81c-c504-4157-df45-88edbbf76019",
        "colab": {
          "base_uri": "https://localhost:8080/",
          "height": 68
        }
      },
      "source": [
        "def entrada (k) :\n",
        "    return input (k)\n",
        "    \n",
        "def theta (alt, comp) :\n",
        "    angulo = round(math.degrees(math.atan(alt/comp)),2)\n",
        "    return angulo\n",
        "\n",
        "alt = float (entrada('Altura em metros = '))    \n",
        "comp = float (entrada('Comprimento da sombra em metros = '))\n",
        "angulo = theta (alt, comp)\n",
        "\n",
        "print ('Ângulo zenital do sol = ', angulo)"
      ],
      "execution_count": null,
      "outputs": [
        {
          "output_type": "stream",
          "text": [
            "Altura em metros = 20\n",
            "Comprimento da sombra em metros = 2\n",
            "Ângulo zenital do sol =  84.29\n"
          ],
          "name": "stdout"
        }
      ]
    },
    {
      "cell_type": "markdown",
      "metadata": {
        "id": "3qsN3csefemZ"
      },
      "source": [
        "Exercício 4: Crie uma função que faça a conversão de uma medida inicialmente em milhas para m, e outra para o inverso; uma de horas para segundos, e o inverso. Se uma pessoa demora 30 minutos em 4 milhas, qual velocidade média em km/h? E o tempo médio por quilômetro?"
      ]
    },
    {
      "cell_type": "code",
      "metadata": {
        "id": "ZC9jcWz0fxew",
        "outputId": "9ee51a77-9417-445a-a292-6348e0d08fb1",
        "colab": {
          "base_uri": "https://localhost:8080/",
          "height": 51
        }
      },
      "source": [
        "def entrada (h) :\n",
        "    return input (h)\n",
        "\n",
        "def converter1 (m) :\n",
        "    milha = 1610*m\n",
        "    return milha\n",
        "\n",
        "m = float (entrada('Medida em milhas = '))\n",
        "milha = converter1 (m)\n",
        "\n",
        "print (milha, 'metros')"
      ],
      "execution_count": null,
      "outputs": [
        {
          "output_type": "stream",
          "text": [
            "Medida em milhas = 1\n",
            "1610.0 metros\n"
          ],
          "name": "stdout"
        }
      ]
    },
    {
      "cell_type": "code",
      "metadata": {
        "id": "9cDkRVNYqfL8",
        "outputId": "d8b16f78-6e63-4822-b2c3-798665e9d5c6",
        "colab": {
          "base_uri": "https://localhost:8080/",
          "height": 51
        }
      },
      "source": [
        "def entrada (s) :\n",
        "    return input (s)\n",
        "\n",
        "def converter2 (milhas) :  \n",
        "    metro = milhas/1610\n",
        "    return metro\n",
        "\n",
        "milhas = float (entrada('Medida em metros = '))  \n",
        "metro = converter2 (milhas)\n",
        "\n",
        "print (metro, 'milhas')"
      ],
      "execution_count": null,
      "outputs": [
        {
          "output_type": "stream",
          "text": [
            "Medida em metros = 10\n",
            "0.006211180124223602 milhas\n"
          ],
          "name": "stdout"
        }
      ]
    },
    {
      "cell_type": "code",
      "metadata": {
        "id": "e4oHpE-CsFh7",
        "outputId": "ab75eb67-9ba7-401f-8abb-619ecb393bb6",
        "colab": {
          "base_uri": "https://localhost:8080/",
          "height": 51
        }
      },
      "source": [
        "def entrada (n) :\n",
        "    return input (n)\n",
        "\n",
        "def converter3 (seg) :\n",
        "    hora = seg*3600\n",
        "    return hora\n",
        "\n",
        "seg = float (entrada('Tempo em horas = '))  \n",
        "hora = converter3 (seg)\n",
        "\n",
        "print (hora, 'segundos')"
      ],
      "execution_count": null,
      "outputs": [
        {
          "output_type": "stream",
          "text": [
            "Tempo em horas = 1\n",
            "3600.0 segundos\n"
          ],
          "name": "stdout"
        }
      ]
    },
    {
      "cell_type": "code",
      "metadata": {
        "id": "Bg_vIbo6v8go",
        "outputId": "6be1454f-79b2-405e-973b-68846d13c8d6",
        "colab": {
          "base_uri": "https://localhost:8080/",
          "height": 51
        }
      },
      "source": [
        "def entrada (za) :\n",
        "    return input (za)\n",
        "\n",
        "def converter4 (horas) :\n",
        "    segs = horas/3600\n",
        "    return segs\n",
        "\n",
        "horas = float (entrada('Tempo em segundos = '))\n",
        "segs = converter4 (horas)\n",
        "\n",
        "print (segs, 'horas')"
      ],
      "execution_count": null,
      "outputs": [
        {
          "output_type": "stream",
          "text": [
            "Tempo em segundos = 3600\n",
            "1.0 horas\n"
          ],
          "name": "stdout"
        }
      ]
    },
    {
      "cell_type": "code",
      "metadata": {
        "id": "Fi3hJs25yuwz",
        "outputId": "cb754f5e-f6bd-4f85-957f-d4a9e025e318",
        "colab": {
          "base_uri": "https://localhost:8080/",
          "height": 85
        }
      },
      "source": [
        "def converte (dfg) :\n",
        "    minu = dfg/60\n",
        "    return minu\n",
        "\n",
        "def converte1 (qwe) :\n",
        "    cdf = qwe*1.61\n",
        "    return cdf\n",
        "\n",
        "def vlc (minu, cdf) :\n",
        "    vlcd = cdf/minu\n",
        "    return vlcd\n",
        "\n",
        "def zxo (minu, cdf) :\n",
        "    zqw = minu/cdf\n",
        "    return zqw\n",
        "\n",
        "print ('30 minutos em horas = ' , converte(30))\n",
        "print ('4 milhas em km = ', converte1(4)) \n",
        "print ('Velocidade média = ' , vlc(converte(30),converte1(4)) , 'km/h')\n",
        "print ('Tempo médio por km = ' , zxo(converte(30), converte1(4)) , 'h/km') "
      ],
      "execution_count": null,
      "outputs": [
        {
          "output_type": "stream",
          "text": [
            "30 minutos em horas =  0.5\n",
            "4 milhas em km =  6.44\n",
            "Velocidade média =  12.88 km/h\n",
            "Tempo médio por km =  0.07763975155279502 h/km\n"
          ],
          "name": "stdout"
        }
      ]
    },
    {
      "cell_type": "markdown",
      "metadata": {
        "id": "CDRDdJtmGMA5"
      },
      "source": [
        "Exercício 5: Crie funções para calcular os outros exemplos das aulas anteriores: IMC, volume de uma esfera, distancia entre pontos de máximos de difração. Decida quais serão os argumentos e o valor retornado."
      ]
    },
    {
      "cell_type": "code",
      "metadata": {
        "id": "Ivd1D66uGOrd",
        "outputId": "db7dc028-477d-4d72-8eab-ff2d9c3dbf18",
        "colab": {
          "base_uri": "https://localhost:8080/",
          "height": 68
        }
      },
      "source": [
        "#IMC\n",
        "def entrada (hjk) :\n",
        "     return input (hjk)\n",
        "\n",
        "def wdf (m, A) :\n",
        "    imc = m/(A**2) \n",
        "    return imc\n",
        "\n",
        "m = float (entrada ('Massa em kg = ')) \n",
        "A = float (entrada ('Altura em metros = '))\n",
        "imc = wdf (m, A)\n",
        "\n",
        "print ('IMC = ', imc)"
      ],
      "execution_count": 8,
      "outputs": [
        {
          "output_type": "stream",
          "text": [
            "Massa em kg = 50\n",
            "Altura em metros = 1.63\n",
            "IMC =  18.818924310286427\n"
          ],
          "name": "stdout"
        }
      ]
    },
    {
      "cell_type": "code",
      "metadata": {
        "id": "40zkZlQfYfda",
        "outputId": "59b1386c-e8c8-44cd-dc32-322ebcaabd3f",
        "colab": {
          "base_uri": "https://localhost:8080/",
          "height": 51
        }
      },
      "source": [
        "#Volume da Esfera\n",
        "def entrada (wsz):\n",
        "    return input (wsz)\n",
        "\n",
        "def vo (R) :\n",
        "    volu = (4*math.pi*(R**3))/3\n",
        "    return volu\n",
        "\n",
        "R = float (entrada('Raio em metro = '))   \n",
        "volu = vo (R)\n",
        "\n",
        "print ('Volume = ', volu, 'm³')"
      ],
      "execution_count": 9,
      "outputs": [
        {
          "output_type": "stream",
          "text": [
            "Raio em metro = 1\n",
            "Volume =  4.1887902047863905 m³\n"
          ],
          "name": "stdout"
        }
      ]
    },
    {
      "cell_type": "code",
      "metadata": {
        "id": "6KjoZa5wkGwZ",
        "outputId": "691176f8-fb27-494e-e2bb-c5e04c3ac46a",
        "colab": {
          "base_uri": "https://localhost:8080/",
          "height": 68
        }
      },
      "source": [
        "#distancia entre pontos de máximos de difração\n",
        "def entrada(pjk) :\n",
        "    return input(pjk)\n",
        "\n",
        "def delta(Dis,das) :\n",
        "    caq = 632.8*(10**(-9))\n",
        "    yu = (caq*Dis)/das\n",
        "    return yu\n",
        "\n",
        "Dis = float(entrada('Digite a distância até o anteparo em metros: '))\n",
        "das = float(entrada('Digite o espaçamento entre as fendas em metros: '))\n",
        "yu = delta(Dis,das)\n",
        "print('A distância entre dois máximos consecutivos é', yu, 'metros')"
      ],
      "execution_count": 13,
      "outputs": [
        {
          "output_type": "stream",
          "text": [
            "Digite a distância até o anteparo em metros: 2\n",
            "Digite o espaçamento entre as fendas em metros: 0.005\n",
            "A distância entre dois máximos consecutivos é 0.00025312 metros\n"
          ],
          "name": "stdout"
        }
      ]
    }
  ]
}