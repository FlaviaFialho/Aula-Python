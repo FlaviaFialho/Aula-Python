{
  "nbformat": 4,
  "nbformat_minor": 0,
  "metadata": {
    "colab": {
      "name": "Flavia_aula_3_1-5.ipynb",
      "provenance": [],
      "authorship_tag": "ABX9TyPmIX+fhas+uFNLk8vRLsEc",
      "include_colab_link": true
    },
    "kernelspec": {
      "name": "python3",
      "display_name": "Python 3"
    }
  },
  "cells": [
    {
      "cell_type": "markdown",
      "metadata": {
        "id": "view-in-github",
        "colab_type": "text"
      },
      "source": [
        "<a href=\"https://colab.research.google.com/github/FlaviaFialho/Aula-Python/blob/master/Flavia_aula_3_1-5.ipynb\" target=\"_parent\"><img src=\"https://colab.research.google.com/assets/colab-badge.svg\" alt=\"Open In Colab\"/></a>"
      ]
    },
    {
      "cell_type": "markdown",
      "metadata": {
        "id": "oNWDJWyYhnqA"
      },
      "source": [
        "Exercício 1: Crie uma função que tome um argumento e imprima o valor e o tipo dele."
      ]
    },
    {
      "cell_type": "code",
      "metadata": {
        "id": "UG4Cq1f3J3b5"
      },
      "source": [
        "import math"
      ],
      "execution_count": 3,
      "outputs": []
    },
    {
      "cell_type": "code",
      "metadata": {
        "id": "1G5C71JcN7ss",
        "outputId": "7cfc7148-7d10-4905-a981-b5ec54b48b57",
        "colab": {
          "base_uri": "https://localhost:8080/",
          "height": 51
        }
      },
      "source": [
        "def d(x) :\n",
        "\n",
        "   dobro = 2*x\n",
        "   return dobro\n",
        "\n",
        "print ('Dobro de 5 =', d(5))\n",
        "print ('O tipo do argunto:', type(d(5)))"
      ],
      "execution_count": 2,
      "outputs": [
        {
          "output_type": "stream",
          "text": [
            "Dobro de 5 = 10\n",
            "O tipo do argunto: <class 'int'>\n"
          ],
          "name": "stdout"
        }
      ]
    },
    {
      "cell_type": "markdown",
      "metadata": {
        "id": "wdd6qhqAbFI6"
      },
      "source": [
        "Exercício 2: Crie uma função que calcule e imprima velocidade media de um objeto a partir de uma posição inicial, a final e o tempo transcorrido para um objeto em MRU. Também crie uma funcão que calcule e imprima a velocidade de um objeto a partir da aceleração constante e o tempo (MRUA) (p.ex. queda livre)."
      ]
    },
    {
      "cell_type": "code",
      "metadata": {
        "id": "ReYLqMI7fkJA",
        "outputId": "b3601bb4-37c7-4ef3-b316-8ae385cc52bb",
        "colab": {
          "base_uri": "https://localhost:8080/",
          "height": 85
        }
      },
      "source": [
        "#MRU\n",
        "def di () :\n",
        "    z = input ('Posição inicial em metros:')\n",
        "    u = float (z)\n",
        "    return u\n",
        "\n",
        "def df () :\n",
        "    y = input ('Posição final em metros:')     \n",
        "    x = float (y)\n",
        "    return x\n",
        "\n",
        "def tempo () :\n",
        "    w = input ('Tempo transcorrido em segundos: ')   \n",
        "    t = float (w)\n",
        "    return t\n",
        "\n",
        "def velocidade (u, x, t) :\n",
        "    v = (x - u)/t\n",
        "    return v\n",
        "\n",
        "u = di ()\n",
        "x = df ()   \n",
        "t = tempo () \n",
        "v = velocidade (u, x, t)\n",
        "\n",
        "print ('Velocidade = ', v, 'm/s')"
      ],
      "execution_count": 15,
      "outputs": [
        {
          "output_type": "stream",
          "text": [
            "Posição inicial em metros:0\n",
            "Posição final em metros:4\n",
            "Tempo transcorrido em segundos: 7\n",
            "Velocidade =  0.5714285714285714 m/s\n"
          ],
          "name": "stdout"
        }
      ]
    }
  ]
}